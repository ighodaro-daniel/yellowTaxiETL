{
 "cells": [
  {
   "cell_type": "code",
   "execution_count": 1,
   "metadata": {},
   "outputs": [],
   "source": [
    "from pyspark.sql import SparkSession\n",
    "from pyspark.sql.functions import *\n",
    "import pyspark\n"
   ]
  },
  {
   "cell_type": "code",
   "execution_count": 2,
   "metadata": {},
   "outputs": [
    {
     "name": "stderr",
     "output_type": "stream",
     "text": [
      "your 131072x1 screen size is bogus. expect trouble\n",
      "23/12/04 06:14:53 WARN Utils: Your hostname, DESKTOP-MU6A7H5 resolves to a loopback address: 127.0.1.1; using 172.25.134.246 instead (on interface eth0)\n",
      "23/12/04 06:14:53 WARN Utils: Set SPARK_LOCAL_IP if you need to bind to another address\n"
     ]
    },
    {
     "name": "stdout",
     "output_type": "stream",
     "text": [
      ":: loading settings :: url = jar:file:/home/daniel/data_engineering/sparkenv/lib/python3.10/site-packages/pyspark/jars/ivy-2.5.1.jar!/org/apache/ivy/core/settings/ivysettings.xml\n"
     ]
    },
    {
     "name": "stderr",
     "output_type": "stream",
     "text": [
      "Ivy Default Cache set to: /home/daniel/.ivy2/cache\n",
      "The jars for the packages stored in: /home/daniel/.ivy2/jars\n",
      "org.postgresql#postgresql added as a dependency\n",
      ":: resolving dependencies :: org.apache.spark#spark-submit-parent-4b80c27b-293c-492d-9e91-34c4ed88ca7f;1.0\n",
      "\tconfs: [default]\n",
      "\tfound org.postgresql#postgresql;42.7.0 in central\n",
      "\tfound org.checkerframework#checker-qual;3.31.0 in central\n",
      ":: resolution report :: resolve 1613ms :: artifacts dl 43ms\n",
      "\t:: modules in use:\n",
      "\torg.checkerframework#checker-qual;3.31.0 from central in [default]\n",
      "\torg.postgresql#postgresql;42.7.0 from central in [default]\n",
      "\t---------------------------------------------------------------------\n",
      "\t|                  |            modules            ||   artifacts   |\n",
      "\t|       conf       | number| search|dwnlded|evicted|| number|dwnlded|\n",
      "\t---------------------------------------------------------------------\n",
      "\t|      default     |   2   |   0   |   0   |   0   ||   2   |   0   |\n",
      "\t---------------------------------------------------------------------\n",
      ":: retrieving :: org.apache.spark#spark-submit-parent-4b80c27b-293c-492d-9e91-34c4ed88ca7f\n",
      "\tconfs: [default]\n",
      "\t0 artifacts copied, 2 already retrieved (0kB/20ms)\n",
      "23/12/04 06:15:29 WARN NativeCodeLoader: Unable to load native-hadoop library for your platform... using builtin-java classes where applicable\n",
      "Setting default log level to \"WARN\".\n",
      "To adjust logging level use sc.setLogLevel(newLevel). For SparkR, use setLogLevel(newLevel).\n"
     ]
    }
   ],
   "source": [
    "spark = (SparkSession.builder.appName('dataframe_file')\n",
    "         .config('spark.dynamicAllocation.enabled',\"false\")\n",
    "         .config('spark.sql.adaptive.enabled',\"false\")\n",
    "         .config(\"spark.executor.extraClassPath\",'/home/daniel/jdbc_folder/postgresql42.7.0.jar')\n",
    "         .config(\"spark.driver.extraClassPath\", '/home/daniel/jdbc_folder/postgresql42.7.0.jar')\n",
    "         .config(\"spark.jars.packages\", \"org.postgresql:postgresql:42.7.0\") \n",
    "         .getOrCreate())   "
   ]
  },
  {
   "cell_type": "code",
   "execution_count": 3,
   "metadata": {},
   "outputs": [
    {
     "data": {
      "text/html": [
       "\n",
       "            <div>\n",
       "                <p><b>SparkSession - in-memory</b></p>\n",
       "                \n",
       "        <div>\n",
       "            <p><b>SparkContext</b></p>\n",
       "\n",
       "            <p><a href=\"http://172.25.134.246:4040\">Spark UI</a></p>\n",
       "\n",
       "            <dl>\n",
       "              <dt>Version</dt>\n",
       "                <dd><code>v3.5.0</code></dd>\n",
       "              <dt>Master</dt>\n",
       "                <dd><code>local[*]</code></dd>\n",
       "              <dt>AppName</dt>\n",
       "                <dd><code>dataframe_file</code></dd>\n",
       "            </dl>\n",
       "        </div>\n",
       "        \n",
       "            </div>\n",
       "        "
      ],
      "text/plain": [
       "<pyspark.sql.session.SparkSession at 0x7f7f2c188df0>"
      ]
     },
     "execution_count": 3,
     "metadata": {},
     "output_type": "execute_result"
    }
   ],
   "source": [
    "spark"
   ]
  },
  {
   "cell_type": "code",
   "execution_count": 4,
   "metadata": {},
   "outputs": [
    {
     "name": "stderr",
     "output_type": "stream",
     "text": [
      "                                                                                \r"
     ]
    }
   ],
   "source": [
    "yellowtaxicsv = spark.read.csv('DataFiles/Raw/YellowTaxis_*.csv',header=True)"
   ]
  },
  {
   "cell_type": "code",
   "execution_count": 5,
   "metadata": {},
   "outputs": [
    {
     "name": "stderr",
     "output_type": "stream",
     "text": [
      "                                                                                \r"
     ]
    },
    {
     "name": "stdout",
     "output_type": "stream",
     "text": [
      "+--------+--------------------+---------------------+---------------+-------------+----------+------------------+------------+------------+------------+-----------+-----+-------+----------+------------+---------------------+------------+--------------------+-----------+\n",
      "|VendorID|tpep_pickup_datetime|tpep_dropoff_datetime|passenger_count|trip_distance|RatecodeID|store_and_fwd_flag|PULocationID|DOLocationID|payment_type|fare_amount|extra|mta_tax|tip_amount|tolls_amount|improvement_surcharge|total_amount|congestion_surcharge|airport_fee|\n",
      "+--------+--------------------+---------------------+---------------+-------------+----------+------------------+------------+------------+------------+-----------+-----+-------+----------+------------+---------------------+------------+--------------------+-----------+\n",
      "|       1|2022-10-01T05:33:...| 2022-10-01T05:48:...|            1.0|          1.7|       1.0|                 N|         249|         107|           1|        9.5|  3.0|    0.5|      2.65|         0.0|                  0.3|       15.95|                 2.5|        0.0|\n",
      "|       2|2022-10-01T05:44:...| 2022-10-01T05:49:...|            2.0|         0.72|       1.0|                 N|         151|         238|           2|        5.5|  0.5|    0.5|       0.0|         0.0|                  0.3|         9.3|                 2.5|        0.0|\n",
      "|       2|2022-10-01T05:57:...| 2022-10-01T06:07:...|            1.0|         1.74|       1.0|                 N|         238|         166|           1|        9.0|  0.5|    0.5|      2.06|         0.0|                  0.3|       12.36|                 0.0|        0.0|\n",
      "|       1|2022-10-01T06:02:...| 2022-10-01T06:08:...|            0.0|          1.3|       1.0|                 N|         142|         239|           1|        6.5|  3.0|    0.5|      2.05|         0.0|                  0.3|       12.35|                 2.5|        0.0|\n",
      "|       1|2022-10-01T06:14:...| 2022-10-01T06:20:...|            0.0|          1.0|       1.0|                 N|         238|         166|           1|        6.0|  0.5|    0.5|       1.8|         0.0|                  0.3|         9.1|                 0.0|        0.0|\n",
      "|       1|2022-10-01T05:52:...| 2022-10-01T06:22:...|            1.0|          6.8|       1.0|                 Y|         186|          41|           2|       25.5|  3.0|    0.5|       0.0|         0.0|                  0.3|        29.3|                 2.5|        0.0|\n",
      "|       2|2022-10-01T06:03:...| 2022-10-01T06:14:...|            3.0|         1.88|       1.0|                 N|         162|         145|           2|       10.5|  0.5|    0.5|       0.0|         0.0|                  0.3|        14.3|                 2.5|        0.0|\n",
      "|       1|2022-10-01T05:32:...| 2022-10-01T06:20:...|            1.0|         12.2|       1.0|                 N|         100|          22|           1|       41.0|  3.0|    0.5|       3.0|         0.0|                  0.3|        47.8|                 2.5|        0.0|\n",
      "|       2|2022-10-01T05:36:...| 2022-10-01T05:54:...|            1.0|         7.79|       1.0|                 N|         138|         112|           1|       23.5|  0.5|    0.5|      4.96|         0.0|                  0.3|       31.01|                 0.0|       1.25|\n",
      "|       2|2022-10-01T05:59:...| 2022-10-01T06:13:...|            1.0|         4.72|       1.0|                 N|         145|          75|           1|       14.5|  0.5|    0.5|       1.5|         0.0|                  0.3|        19.8|                 2.5|        0.0|\n",
      "|       1|2022-10-01T05:31:...| 2022-10-01T05:50:...|            1.0|          8.8|       1.0|                 N|         138|         236|           1|       26.0| 4.25|    0.5|      5.64|        6.55|                  0.3|       43.24|                 2.5|       1.25|\n",
      "|       1|2022-10-01T05:57:...| 2022-10-01T06:29:...|            1.0|          8.6|       1.0|                 N|         140|          36|           1|       29.5|  3.0|    0.5|       6.0|         0.0|                  0.3|        39.3|                 2.5|        0.0|\n",
      "|       1|2022-10-01T05:35:...| 2022-10-01T06:05:...|            4.0|         12.0|       1.0|                 N|          70|         230|           2|       36.5|  3.0|    0.5|       0.0|        6.55|                  0.3|       46.85|                 2.5|        0.0|\n",
      "|       1|2022-10-01T06:08:...| 2022-10-01T06:18:...|            2.0|          1.4|       1.0|                 N|         230|          68|           1|        8.5|  3.0|    0.5|      3.05|         0.0|                  0.3|       15.35|                 2.5|        0.0|\n",
      "|       2|2022-10-01T05:54:...| 2022-10-01T06:00:...|            1.0|         0.76|       1.0|                 N|          79|         113|           1|        5.5|  0.5|    0.5|      0.93|         0.0|                  0.3|       10.23|                 2.5|        0.0|\n",
      "|       2|2022-10-01T06:02:...| 2022-10-01T06:28:...|            1.0|          7.8|       1.0|                 N|         113|         116|           1|       26.5|  0.5|    0.5|      6.06|         0.0|                  0.3|       36.36|                 2.5|        0.0|\n",
      "|       2|2022-10-01T05:47:...| 2022-10-01T06:00:...|            2.0|          2.9|       1.0|                 N|          13|         249|           1|       12.0|  0.5|    0.5|       2.8|         0.0|                  0.3|        18.6|                 2.5|        0.0|\n",
      "|       2|2022-10-01T06:02:...| 2022-10-01T06:14:...|            1.0|         1.71|       1.0|                 N|         249|          79|           1|        9.0|  0.5|    0.5|      2.56|         0.0|                  0.3|       15.36|                 2.5|        0.0|\n",
      "|       2|2022-10-01T05:39:...| 2022-10-01T05:51:...|            1.0|          2.3|       1.0|                 N|          48|         249|           1|       10.0|  0.5|    0.5|      2.76|         0.0|                  0.3|       16.56|                 2.5|        0.0|\n",
      "|       2|2022-10-01T05:52:...| 2022-10-01T06:03:...|            2.0|         1.67|       1.0|                 N|         249|         224|           1|        8.5|  0.5|    0.5|      2.46|         0.0|                  0.3|       14.76|                 2.5|        0.0|\n",
      "+--------+--------------------+---------------------+---------------+-------------+----------+------------------+------------+------------+------------+-----------+-----+-------+----------+------------+---------------------+------------+--------------------+-----------+\n",
      "only showing top 20 rows\n",
      "\n"
     ]
    }
   ],
   "source": [
    "yellowtaxicsv.show()"
   ]
  },
  {
   "cell_type": "code",
   "execution_count": 6,
   "metadata": {},
   "outputs": [
    {
     "name": "stdout",
     "output_type": "stream",
     "text": [
      "root\n",
      " |-- VendorID: string (nullable = true)\n",
      " |-- tpep_pickup_datetime: string (nullable = true)\n",
      " |-- tpep_dropoff_datetime: string (nullable = true)\n",
      " |-- passenger_count: string (nullable = true)\n",
      " |-- trip_distance: string (nullable = true)\n",
      " |-- RatecodeID: string (nullable = true)\n",
      " |-- store_and_fwd_flag: string (nullable = true)\n",
      " |-- PULocationID: string (nullable = true)\n",
      " |-- DOLocationID: string (nullable = true)\n",
      " |-- payment_type: string (nullable = true)\n",
      " |-- fare_amount: string (nullable = true)\n",
      " |-- extra: string (nullable = true)\n",
      " |-- mta_tax: string (nullable = true)\n",
      " |-- tip_amount: string (nullable = true)\n",
      " |-- tolls_amount: string (nullable = true)\n",
      " |-- improvement_surcharge: string (nullable = true)\n",
      " |-- total_amount: string (nullable = true)\n",
      " |-- congestion_surcharge: string (nullable = true)\n",
      " |-- airport_fee: string (nullable = true)\n",
      "\n"
     ]
    }
   ],
   "source": [
    "yellowtaxicsv.printSchema()"
   ]
  },
  {
   "cell_type": "code",
   "execution_count": 7,
   "metadata": {},
   "outputs": [],
   "source": [
    "yellowtaxicsvde = yellowtaxicsv.describe(['passenger_count','trip_distance'])"
   ]
  },
  {
   "cell_type": "code",
   "execution_count": 8,
   "metadata": {},
   "outputs": [
    {
     "name": "stderr",
     "output_type": "stream",
     "text": [
      "[Stage 3:>                                                          (0 + 1) / 1]\r"
     ]
    },
    {
     "name": "stdout",
     "output_type": "stream",
     "text": [
      "+-------+------------------+-----------------+\n",
      "|summary|   passenger_count|    trip_distance|\n",
      "+-------+------------------+-----------------+\n",
      "|  count|           3542399|          3675419|\n",
      "|   mean| 1.384692972192009|6.206967213806036|\n",
      "| stddev|0.9302299062876463|640.8230706269816|\n",
      "|    min|               0.0|              0.0|\n",
      "|    max|               9.0|            99.89|\n",
      "+-------+------------------+-----------------+\n",
      "\n"
     ]
    },
    {
     "name": "stderr",
     "output_type": "stream",
     "text": [
      "                                                                                \r"
     ]
    }
   ],
   "source": [
    "yellowtaxicsvde.show()"
   ]
  },
  {
   "cell_type": "markdown",
   "metadata": {},
   "source": [
    "# performing data cleansing on dataset"
   ]
  },
  {
   "cell_type": "code",
   "execution_count": 9,
   "metadata": {},
   "outputs": [],
   "source": [
    "\n",
    "yellowTaxicleansing =( yellowtaxicsv.where('passenger_count > 0.0 ').where('trip_distance > 0.0').na.drop('all')\n",
    "               .dropDuplicates().where('tpep_pickup_datetime > \"2022-10-01\" AND tpep_dropoff_datetime > \"2022-11-01\" '))\n"
   ]
  },
  {
   "cell_type": "code",
   "execution_count": 10,
   "metadata": {},
   "outputs": [
    {
     "name": "stderr",
     "output_type": "stream",
     "text": [
      "[Stage 4:============================================>              (3 + 1) / 4]\r"
     ]
    },
    {
     "name": "stdout",
     "output_type": "stream",
     "text": [
      "+--------+--------------------+---------------------+---------------+-------------+----------+------------------+------------+------------+------------+-----------+-----+-------+----------+------------+---------------------+------------+--------------------+-----------+\n",
      "|VendorID|tpep_pickup_datetime|tpep_dropoff_datetime|passenger_count|trip_distance|RatecodeID|store_and_fwd_flag|PULocationID|DOLocationID|payment_type|fare_amount|extra|mta_tax|tip_amount|tolls_amount|improvement_surcharge|total_amount|congestion_surcharge|airport_fee|\n",
      "+--------+--------------------+---------------------+---------------+-------------+----------+------------------+------------+------------+------------+-----------+-----+-------+----------+------------+---------------------+------------+--------------------+-----------+\n",
      "|       2|2022-11-01T00:10:...| 2022-11-01T00:22:...|            1.0|         1.41|       1.0|                 N|         239|         143|           1|        9.0|  1.0|    0.5|      2.66|         0.0|                  0.3|       15.96|                 2.5|        0.0|\n",
      "|       2|2022-11-01T00:17:...| 2022-11-01T00:27:...|            2.0|          1.5|       1.0|                 N|         237|         239|           1|        8.5|  1.0|    0.5|      1.92|         0.0|                  0.3|       14.72|                 2.5|        0.0|\n",
      "|       1|2022-11-01T00:27:...| 2022-11-01T00:34:...|            1.0|          1.1|       1.0|                 N|         170|         229|           1|        6.5|  3.5|    0.5|      2.15|         0.0|                  0.3|       12.95|                 2.5|        0.0|\n",
      "|       2|2022-11-01T00:07:...| 2022-11-01T00:27:...|            1.0|         4.72|       1.0|                 N|         132|         205|           2|       17.5|  1.0|    0.5|       0.0|         0.0|                  0.3|       20.55|                 0.0|       1.25|\n",
      "|       2|2022-11-01T00:18:...| 2022-11-01T00:24:...|            2.0|          1.2|       1.0|                 N|         186|         107|           2|        6.5|  1.0|    0.5|       0.0|         0.0|                  0.3|        10.8|                 2.5|        0.0|\n",
      "|       2|2022-10-31T23:58:...| 2022-11-01T00:09:...|            3.0|         1.79|       1.0|                 N|         261|         249|           2|        9.0|  1.0|    0.5|       0.0|         0.0|                  0.3|        13.3|                 2.5|        0.0|\n",
      "|       2|2022-10-31T23:59:...| 2022-11-01T00:08:...|            2.0|         1.76|       1.0|                 N|         170|         234|           1|        8.0|  1.0|    0.5|      2.46|         0.0|                  0.3|       14.76|                 2.5|        0.0|\n",
      "|       1|2022-10-31T23:31:...| 2022-11-01T00:12:...|            1.0|         16.8|       2.0|                 N|         132|         107|           1|       52.0| 8.25|    0.5|      13.5|        6.55|                  0.3|        81.1|                 2.5|       1.25|\n",
      "|       2|2022-11-01T00:18:...| 2022-11-01T00:35:...|            1.0|         6.56|       1.0|                 N|         132|         265|           2|       20.5|  1.0|    0.5|       0.0|         0.0|                  0.3|       23.55|                 0.0|       1.25|\n",
      "|       2|2022-11-01T00:14:...| 2022-11-01T00:25:...|            5.0|          1.2|       1.0|                 N|         164|         249|           1|        8.0|  1.0|    0.5|      2.46|         0.0|                  0.3|       14.76|                 2.5|        0.0|\n",
      "|       2|2022-11-01T00:15:...| 2022-11-01T00:26:...|            1.0|         2.24|       1.0|                 N|          90|         231|           1|       10.0|  1.0|    0.5|      3.58|         0.0|                  0.3|       17.88|                 2.5|        0.0|\n",
      "|       1|2022-10-31T23:44:...| 2022-11-01T00:30:...|            1.0|         19.2|       2.0|                 N|         132|          50|           1|       52.0| 8.25|    0.5|      13.5|        6.55|                  0.3|        81.1|                 2.5|       1.25|\n",
      "|       2|2022-11-01T00:11:...| 2022-11-01T00:23:...|            1.0|         1.49|       1.0|                 N|          68|         107|           1|        9.0|  1.0|    0.5|      3.33|         0.0|                  0.3|       16.63|                 2.5|        0.0|\n",
      "|       1|2022-10-31T23:49:...| 2022-11-01T00:07:...|            1.0|          3.8|       1.0|                 N|         234|         262|           1|       13.5|  3.5|    0.5|       1.0|         0.0|                  0.3|        18.8|                 2.5|        0.0|\n",
      "|       2|2022-11-01T00:23:...| 2022-11-01T00:28:...|            1.0|         1.12|       1.0|                 N|         237|         236|           2|        6.0|  1.0|    0.5|       0.0|         0.0|                  0.3|        10.3|                 2.5|        0.0|\n",
      "|       2|2022-11-01T00:03:...| 2022-11-01T00:23:...|            1.0|         3.62|       1.0|                 N|          90|         236|           1|       15.5|  1.0|    0.5|      4.95|         0.0|                  0.3|       24.75|                 2.5|        0.0|\n",
      "|       2|2022-11-01T00:08:...| 2022-11-01T00:15:...|            1.0|         1.22|       1.0|                 N|         100|         249|           1|        7.0|  1.0|    0.5|      2.26|         0.0|                  0.3|       13.56|                 2.5|        0.0|\n",
      "|       2|2022-11-01T00:21:...| 2022-11-01T00:33:...|            1.0|         2.18|       1.0|                 N|         229|         113|           1|       10.0|  1.0|    0.5|      2.14|         0.0|                  0.3|       16.44|                 2.5|        0.0|\n",
      "|       2|2022-11-01T00:19:...| 2022-11-01T00:28:...|            2.0|         1.23|       1.0|                 N|         162|          50|           1|        7.5|  1.0|    0.5|      2.36|         0.0|                  0.3|       14.16|                 2.5|        0.0|\n",
      "|       2|2022-11-01T00:25:...| 2022-11-01T00:29:...|            1.0|         0.89|       1.0|                 N|         236|          75|           1|        5.0|  1.0|    0.5|      1.86|         0.0|                  0.3|       11.16|                 2.5|        0.0|\n",
      "+--------+--------------------+---------------------+---------------+-------------+----------+------------------+------------+------------+------------+-----------+-----+-------+----------+------------+---------------------+------------+--------------------+-----------+\n",
      "only showing top 20 rows\n",
      "\n"
     ]
    },
    {
     "name": "stderr",
     "output_type": "stream",
     "text": [
      "                                                                                \r"
     ]
    }
   ],
   "source": [
    "yellowTaxicleansing.show()"
   ]
  },
  {
   "cell_type": "code",
   "execution_count": 11,
   "metadata": {},
   "outputs": [
    {
     "name": "stderr",
     "output_type": "stream",
     "text": [
      "                                                                                \r"
     ]
    },
    {
     "data": {
      "text/plain": [
       "28394"
      ]
     },
     "execution_count": 11,
     "metadata": {},
     "output_type": "execute_result"
    }
   ],
   "source": [
    "#total number of records after cleansing\n",
    "yellowTaxicleansing.count()"
   ]
  },
  {
   "cell_type": "markdown",
   "metadata": {},
   "source": [
    "## selecting the number of column to be used as per business logic"
   ]
  },
  {
   "cell_type": "code",
   "execution_count": 12,
   "metadata": {},
   "outputs": [
    {
     "name": "stdout",
     "output_type": "stream",
     "text": [
      "root\n",
      " |-- VendorID: string (nullable = true)\n",
      " |-- tpep_pickup_datetime: string (nullable = true)\n",
      " |-- tpep_dropoff_datetime: string (nullable = true)\n",
      " |-- passenger_count: string (nullable = true)\n",
      " |-- trip_distance: string (nullable = true)\n",
      " |-- RatecodeID: string (nullable = true)\n",
      " |-- store_and_fwd_flag: string (nullable = true)\n",
      " |-- PULocationID: string (nullable = true)\n",
      " |-- DOLocationID: string (nullable = true)\n",
      " |-- payment_type: string (nullable = true)\n",
      " |-- fare_amount: string (nullable = true)\n",
      " |-- extra: string (nullable = true)\n",
      " |-- mta_tax: string (nullable = true)\n",
      " |-- tip_amount: string (nullable = true)\n",
      " |-- tolls_amount: string (nullable = true)\n",
      " |-- improvement_surcharge: string (nullable = true)\n",
      " |-- total_amount: string (nullable = true)\n",
      " |-- congestion_surcharge: string (nullable = true)\n",
      " |-- airport_fee: string (nullable = true)\n",
      "\n"
     ]
    }
   ],
   "source": [
    "yellowTaxicleansing.printSchema()"
   ]
  },
  {
   "cell_type": "code",
   "execution_count": 13,
   "metadata": {},
   "outputs": [],
   "source": [
    "selected_taxi_column = yellowTaxicleansing.select(\"VendorID\",\n",
    "                                                  col(\"passenger_count\").cast('integer'),\n",
    "                                                  col(\"store_and_fwd_flag\").alias(\"flag\"),\n",
    "                                                 'PULocationID',\n",
    "                                                 'DOLocationID',\n",
    "                                                 'payment_type',\n",
    "                                                 'fare_amount',\n",
    "                                                 'extra',\n",
    "                                                 'total_amount',\n",
    "                                                'tip_amount',\n",
    "                                                  col('tpep_dropoff_datetime').alias('dropoff_time'),\n",
    "                                                  col('tpep_pickup_datetime').alias('pickup_time')  )"
   ]
  },
  {
   "cell_type": "markdown",
   "metadata": {},
   "source": [
    "# renaming few columns"
   ]
  },
  {
   "cell_type": "code",
   "execution_count": 14,
   "metadata": {},
   "outputs": [],
   "source": [
    "selected_taxi_column = selected_taxi_column.withColumnRenamed('PULocationID','pickupLocationID').withColumnRenamed('DOLocationID','dropoffLocationID')"
   ]
  },
  {
   "cell_type": "code",
   "execution_count": 15,
   "metadata": {},
   "outputs": [
    {
     "name": "stdout",
     "output_type": "stream",
     "text": [
      "root\n",
      " |-- VendorID: string (nullable = true)\n",
      " |-- passenger_count: integer (nullable = true)\n",
      " |-- flag: string (nullable = true)\n",
      " |-- pickupLocationID: string (nullable = true)\n",
      " |-- dropoffLocationID: string (nullable = true)\n",
      " |-- payment_type: string (nullable = true)\n",
      " |-- fare_amount: string (nullable = true)\n",
      " |-- extra: string (nullable = true)\n",
      " |-- total_amount: string (nullable = true)\n",
      " |-- tip_amount: string (nullable = true)\n",
      " |-- dropoff_time: string (nullable = true)\n",
      " |-- pickup_time: string (nullable = true)\n",
      "\n"
     ]
    }
   ],
   "source": [
    "selected_taxi_column.printSchema()"
   ]
  },
  {
   "cell_type": "markdown",
   "metadata": {},
   "source": [
    "# creating an extra column (trip_year) ,extracting the year character from pickup_time"
   ]
  },
  {
   "cell_type": "code",
   "execution_count": 16,
   "metadata": {},
   "outputs": [
    {
     "name": "stdout",
     "output_type": "stream",
     "text": [
      "root\n",
      " |-- VendorID: string (nullable = true)\n",
      " |-- passenger_count: integer (nullable = true)\n",
      " |-- flag: string (nullable = true)\n",
      " |-- pickupLocationID: string (nullable = true)\n",
      " |-- dropoffLocationID: string (nullable = true)\n",
      " |-- payment_type: string (nullable = true)\n",
      " |-- fare_amount: string (nullable = true)\n",
      " |-- extra: string (nullable = true)\n",
      " |-- total_amount: string (nullable = true)\n",
      " |-- tip_amount: string (nullable = true)\n",
      " |-- dropoff_time: string (nullable = true)\n",
      " |-- pickup_time: string (nullable = true)\n",
      " |-- tripYear: integer (nullable = true)\n",
      "\n"
     ]
    }
   ],
   "source": [
    "selected_taxi_column = selected_taxi_column.withColumn('tripYear',year(col('pickup_time')))\n",
    "\n",
    "selected_taxi_column.printSchema()"
   ]
  },
  {
   "cell_type": "markdown",
   "metadata": {},
   "source": [
    "# grouping the data and performing some aggregation on it"
   ]
  },
  {
   "cell_type": "code",
   "execution_count": 17,
   "metadata": {},
   "outputs": [
    {
     "name": "stderr",
     "output_type": "stream",
     "text": [
      "[Stage 11:==================================================>   (187 + 4) / 200]\r"
     ]
    },
    {
     "name": "stdout",
     "output_type": "stream",
     "text": [
      "+----------------+-----------------+------------+------------------+\n",
      "|pickupLocationID|dropoffLocationID|avgTripTimes| sum(total_amount)|\n",
      "+----------------+-----------------+------------+------------------+\n",
      "|              10|               10|      2022.0|               4.3|\n",
      "|              10|              127|      2022.0|             59.35|\n",
      "|              10|              141|      2022.0|             80.87|\n",
      "|              10|              163|      2022.0|             67.61|\n",
      "|              10|              237|      2022.0|              75.3|\n",
      "|              10|              261|      2022.0|             75.47|\n",
      "|              10|               42|      2022.0|              76.6|\n",
      "|             100|              100|      2022.0|             53.76|\n",
      "|             100|              107|      2022.0|             96.14|\n",
      "|             100|              113|      2022.0| 97.69999999999999|\n",
      "|             100|              114|      2022.0|             46.46|\n",
      "|             100|              116|      2022.0|             36.63|\n",
      "|             100|              125|      2022.0|              79.3|\n",
      "|             100|               13|      2022.0| 68.46000000000001|\n",
      "|             100|              132|      2022.0|295.53999999999996|\n",
      "|             100|              137|      2022.0|            101.84|\n",
      "|             100|              140|      2022.0|             92.25|\n",
      "|             100|              141|      2022.0|136.95999999999998|\n",
      "|             100|              142|      2022.0|147.26999999999998|\n",
      "|             100|              143|      2022.0|             79.81|\n",
      "+----------------+-----------------+------------+------------------+\n",
      "only showing top 20 rows\n",
      "\n"
     ]
    },
    {
     "name": "stderr",
     "output_type": "stream",
     "text": [
      "                                                                                \r"
     ]
    }
   ],
   "source": [
    "yellowTaxiReport = selected_taxi_column.groupBy('pickupLocationID','dropoffLocationID').agg(avg('tripYear').alias('avgTripTimes'),sum('total_amount')).alias('sumTotal').orderBy('pickupLocationID','dropoffLocationID')\n",
    "\n",
    "\n",
    "yellowTaxiReport.show()"
   ]
  },
  {
   "cell_type": "markdown",
   "metadata": {},
   "source": [
    "# performing optimization using persist() to cache data between disk and memory"
   ]
  },
  {
   "cell_type": "code",
   "execution_count": 18,
   "metadata": {},
   "outputs": [
    {
     "data": {
      "text/plain": [
       "DataFrame[pickupLocationID: string, dropoffLocationID: string, avgTripTimes: double, sum(total_amount): double]"
      ]
     },
     "execution_count": 18,
     "metadata": {},
     "output_type": "execute_result"
    }
   ],
   "source": [
    "yellowTaxiReport.persist(pyspark.StorageLevel.MEMORY_AND_DISK)"
   ]
  },
  {
   "cell_type": "markdown",
   "metadata": {},
   "source": [
    "# we would save to data to both disk and postgre database"
   ]
  },
  {
   "cell_type": "code",
   "execution_count": 19,
   "metadata": {},
   "outputs": [
    {
     "name": "stderr",
     "output_type": "stream",
     "text": [
      "                                                                                \r"
     ]
    }
   ],
   "source": [
    "(yellowTaxiReport.write.option('header','true')\n",
    "          .option('date_format','yyyy-MM-dd HH:mm:ss.S')\n",
    "          .mode('overwrite').partitionBy('pickupLocationID')\n",
    "          .csv('transformData'))"
   ]
  },
  {
   "cell_type": "markdown",
   "metadata": {},
   "source": [
    "# writing to database"
   ]
  },
  {
   "cell_type": "code",
   "execution_count": null,
   "metadata": {},
   "outputs": [],
   "source": [
    "db_properties = {}\n",
    "dburl = database_url\n",
    "db_properties['user'] =username\n",
    "db_properties['password']= password\n"
   ]
  },
  {
   "cell_type": "code",
   "execution_count": null,
   "metadata": {},
   "outputs": [],
   "source": [
    "yellowTaxiDb = yellowTaxiReport.write.jdbc(url= dburl,table='yellowtaxi',mode='overwrite',properties=db_properties)"
   ]
  },
  {
   "cell_type": "code",
   "execution_count": null,
   "metadata": {},
   "outputs": [],
   "source": []
  }
 ],
 "metadata": {
  "kernelspec": {
   "display_name": "sparkenv",
   "language": "python",
   "name": "python3"
  },
  "language_info": {
   "codemirror_mode": {
    "name": "ipython",
    "version": 3
   },
   "file_extension": ".py",
   "mimetype": "text/x-python",
   "name": "python",
   "nbconvert_exporter": "python",
   "pygments_lexer": "ipython3",
   "version": "3.10.12"
  }
 },
 "nbformat": 4,
 "nbformat_minor": 2
}
